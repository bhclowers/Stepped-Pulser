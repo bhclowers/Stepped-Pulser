{
 "cells": [
  {
   "cell_type": "markdown",
   "metadata": {},
   "source": [
    "### Stepped Waveform Generator"
   ]
  },
  {
   "cell_type": "markdown",
   "metadata": {},
   "source": [
    "Press 'Shift + Enter' to run a cell."
   ]
  },
  {
   "cell_type": "code",
   "execution_count": 1,
   "metadata": {},
   "outputs": [],
   "source": [
    "import numpy as np\n",
    "import matplotlib.pyplot as plt\n",
    "%matplotlib inline"
   ]
  },
  {
   "cell_type": "code",
   "execution_count": 2,
   "metadata": {},
   "outputs": [],
   "source": [
    "plt.rcParams['figure.figsize'] = [12,5]"
   ]
  },
  {
   "cell_type": "code",
   "execution_count": 3,
   "metadata": {},
   "outputs": [],
   "source": [
    "freqStart = 5 #initial frequency for stepped sweep\n",
    "freqEnd = 8005 #terminal frequency for sweep\n",
    "dutyCycle = 127 #microprocessor handles things that are 8 bit for the PWM out so 127 is 50%\n",
    "numPnts = 1000 #number of points in sweep\n",
    "freqArray = np.linspace(freqStart, freqEnd, numPnts, dtype = np.float32) #initialization of frequencies"
   ]
  },
  {
   "cell_type": "code",
   "execution_count": 4,
   "metadata": {},
   "outputs": [],
   "source": [
    "#formatting for .csv file creating\n",
    "freqStr = '%s'%(str(freqArray.tolist()))\n",
    "freqStr = freqStr.replace('[', '{')\n",
    "freqStr = freqStr.replace(']', '}')\n",
    "freqStrC = 'int freq[%d] = %s;'%(numPnts, freqStr)\n",
    "\n",
    "dcArray = np.ones(numPnts, dtype = np.int32)\n",
    "dcArray*=dutyCycle\n",
    "dcStr = '%s'%(str(dcArray.tolist()))\n",
    "dcStr = dcStr.replace('[', '{')\n",
    "dcStr = dcStr.replace(']', '}')\n",
    "\n",
    "dcStrC = 'int dc[%d] = %s;'%(numPnts, dcStr)"
   ]
  },
  {
   "cell_type": "code",
   "execution_count": 5,
   "metadata": {},
   "outputs": [
    {
     "data": {
      "text/plain": [
       "Text(0, 0.5, 'Frequency (Hz)')"
      ]
     },
     "execution_count": 5,
     "metadata": {},
     "output_type": "execute_result"
    },
    {
     "data": {
      "image/png": "[encoded data removed]",
      "text/plain": [
       "<Figure size 864x360 with 1 Axes>"
      ]
     },
     "metadata": {
      "needs_background": "light"
     },
     "output_type": "display_data"
    }
   ],
   "source": [
    "plt.plot(freqArray, 'ro-', mfc = 'w')\n",
    "plt.xlabel(\"Data Point\", fontsize = 16)\n",
    "plt.ylabel(\"Frequency (Hz)\", fontsize = 16)"
   ]
  },
  {
   "cell_type": "code",
   "execution_count": 6,
   "metadata": {},
   "outputs": [],
   "source": [
    "#printing 'freqStrC' will show all frequencies generated by code above\n",
    "# freqStrC"
   ]
  },
  {
   "cell_type": "code",
   "execution_count": 7,
   "metadata": {},
   "outputs": [],
   "source": [
    "# '.csv' required at the end of this string\n",
    "stpdFileName = 'ps.csv'"
   ]
  },
  {
   "cell_type": "code",
   "execution_count": 8,
   "metadata": {},
   "outputs": [],
   "source": [
    "# this will save the file within the current working directory (remove '#' to uncomment)\n",
    "np.savetxt(stpdFileName, np.column_stack((freqArray, dcArray)),delimiter = ',', fmt = '%.2f')"
   ]
  },
  {
   "cell_type": "code",
   "execution_count": 9,
   "metadata": {},
   "outputs": [
    {
     "name": "stdout",
     "output_type": "stream",
     "text": [
      "5.00,127.00\r\n",
      "13.01,127.00\r\n",
      "21.02,127.00\r\n",
      "29.02,127.00\r\n",
      "37.03,127.00\r\n",
      "45.04,127.00\r\n",
      "53.05,127.00\r\n",
      "61.06,127.00\r\n",
      "69.06,127.00\r\n",
      "77.07,127.00\r\n"
     ]
    }
   ],
   "source": [
    "!head ps.csv"
   ]
  },
  {
   "cell_type": "code",
   "execution_count": null,
   "metadata": {},
   "outputs": [],
   "source": []
  }
 ],
 "metadata": {
  "kernelspec": {
   "display_name": "Python 3 (ipykernel)",
   "language": "python",
   "name": "python3"
  },
  "language_info": {
   "codemirror_mode": {
    "name": "ipython",
    "version": 3
   },
   "file_extension": ".py",
   "mimetype": "text/x-python",
   "name": "python",
   "nbconvert_exporter": "python",
   "pygments_lexer": "ipython3",
   "version": "3.9.7"
  }
 },
 "nbformat": 4,
 "nbformat_minor": 4
}
